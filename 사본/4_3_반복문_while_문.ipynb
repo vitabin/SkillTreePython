{
  "nbformat": 4,
  "nbformat_minor": 0,
  "metadata": {
    "colab": {
      "provenance": [],
      "include_colab_link": true
    },
    "kernelspec": {
      "name": "python3",
      "display_name": "Python 3"
    },
    "language_info": {
      "name": "python"
    }
  },
  "cells": [
    {
      "cell_type": "markdown",
      "metadata": {
        "id": "view-in-github",
        "colab_type": "text"
      },
      "source": [
        "<a href=\"https://colab.research.google.com/github/vitabin/SkillTreePython/blob/main/%EC%82%AC%EB%B3%B8/4_3_%EB%B0%98%EB%B3%B5%EB%AC%B8_while_%EB%AC%B8.ipynb\" target=\"_parent\"><img src=\"https://colab.research.google.com/assets/colab-badge.svg\" alt=\"Open In Colab\"/></a>"
      ]
    },
    {
      "cell_type": "markdown",
      "source": [
        "# 4-3. 반복문 : while 문\n",
        "---\n",
        "* 날짜: 2023-1-4\n",
        "* 이름: 최현빈"
      ],
      "metadata": {
        "id": "kB5IciXEm6o4"
      }
    },
    {
      "cell_type": "markdown",
      "source": [
        "## 개념정리\n",
        "---\n",
        "\n",
        "또 다른 반복문인 whlie문은 for문과 동일하게 특정 코드를 반복해서 진행합니다. 그렇지만 for문과 달리 반복문 내에 반복되는 특정 변수가 없으며 필요시 직접 입력해주어야 합니다.\n"
      ],
      "metadata": {
        "id": "4iN8NFzHRJ2D"
      }
    },
    {
      "cell_type": "markdown",
      "source": [
        "### **(1) 기본 사용**\n",
        "\n",
        "while문의 기본 구조는 아래와 같습니다.\n",
        "\n",
        "\n",
        "\n",
        "```\n",
        "while <조건문>:\n",
        "  <반복되는 코드>\n",
        "  ...\n",
        "```\n",
        "\n",
        "조건문은 항상 bool 형태, 즉 True 혹은 False임을 유의하세요. while은 조건문이 True인 동안 계속해서 반복됩니다. <조건문> 자리에 a가 5보다 작다는 조건을 입력해봅시다. 반복문이 시작할 때 a가 0이기 때문에 a<5라는 조건은 `True` 가 됩니다. 조건문이 `True`인 동안 a는 1씩 증가하다가 a가 5 이상이 되는 순간 조건문은 `False`가 되며 반복문이 종료됩니다.\n",
        "\n",
        "```\n",
        "a=0\n",
        "while a<5:\n",
        "  print(a)\n",
        "  a+=1\n",
        "```\n"
      ],
      "metadata": {
        "id": "MAM8MDnfw68b"
      }
    },
    {
      "cell_type": "code",
      "source": [
        "a=0\n",
        "while a<5:\n",
        "  print(a)\n",
        "  a+=1"
      ],
      "metadata": {
        "id": "KfFYVIbwR-HW",
        "colab": {
          "base_uri": "https://localhost:8080/"
        },
        "outputId": "fb6c794d-5f34-425a-c4d3-a86c411abea6"
      },
      "execution_count": 11,
      "outputs": [
        {
          "output_type": "stream",
          "name": "stdout",
          "text": [
            "0\n",
            "1\n",
            "2\n",
            "3\n",
            "4\n"
          ]
        }
      ]
    },
    {
      "cell_type": "markdown",
      "source": [
        "#### **무한루프**\n",
        "\n",
        "이번에는 <조건문> 자리에 직접 `True` 를 입력하겠습니다. 이렇게 되면 반복문의 조건문이 항상 `True`인 상태기 때문에 다른 조건을 코드 아래에 추가해 주지 않으면 무한루프가 됩니다. (아래 코드는 무한 루프이기 때문에 굳이 실행해 보지 않아도 됩니다.)\n",
        "\n",
        "```\n",
        "a=0\n",
        "while True:\n",
        "  print(a)\n",
        "  a+=1\n",
        "```"
      ],
      "metadata": {
        "id": "cNbe3iQrSC04"
      }
    },
    {
      "cell_type": "code",
      "source": [],
      "metadata": {
        "id": "KKNOfRqJhkXv"
      },
      "execution_count": null,
      "outputs": []
    },
    {
      "cell_type": "markdown",
      "source": [
        "### **(2) if문과 함께 쓰는 for문**\n",
        "\n",
        "무한이 코드가 돌아가지 않도록 해야 하기 때문에 보통 반복문 내에 이를 컨트롤 할 코드를 작성해 줍니다. \n"
      ],
      "metadata": {
        "id": "vQOdMT95SGNB"
      }
    },
    {
      "cell_type": "markdown",
      "source": [
        "\n",
        "#### **다음반복으로 건너뛰기**\n",
        "\n",
        "* `continue`\n",
        "\n",
        "만일 특정 조건에서 루프를 그대로 종료하는 것이 아니라 다음 루프로 넘어가고 싶다면 `continue`를 사용합니다.\n",
        "\n",
        "```\n",
        "a = 0\n",
        "while True:\n",
        "  print(a)\n",
        "  a+=1\n",
        "  if a==5: \n",
        "    continue\n",
        "  if a==10:\n",
        "    break\n",
        "```\n"
      ],
      "metadata": {
        "id": "LpWMyxcaSrjn"
      }
    },
    {
      "cell_type": "code",
      "source": [
        "a = 0\n",
        "while True:\n",
        "  print(a)\n",
        "  a+=1\n",
        "  if a==5: \n",
        "    continue\n",
        "  if a==10:\n",
        "    break"
      ],
      "metadata": {
        "id": "NdFATim3ScXv",
        "colab": {
          "base_uri": "https://localhost:8080/"
        },
        "outputId": "5950c7e3-524d-476a-de04-0d7af394ca4b"
      },
      "execution_count": 4,
      "outputs": [
        {
          "output_type": "stream",
          "name": "stdout",
          "text": [
            "0\n",
            "1\n",
            "2\n",
            "3\n",
            "4\n",
            "5\n",
            "6\n",
            "7\n",
            "8\n",
            "9\n"
          ]
        }
      ]
    },
    {
      "cell_type": "markdown",
      "source": [
        "#### **while문을 즉시 종료하기**  \n",
        "\n",
        "* `break`\n",
        "\n",
        "`for문` 안에서 `break` 을 만나면 즉시 `for문`이 종료됩니다. (모든 루프가 돌아가지 않았어도)\n",
        "\n",
        "```\n",
        "a=0\n",
        "while True:\n",
        "  print(a)\n",
        "  a+=1\n",
        "  if a==5:\n",
        "    break\n",
        "```\n"
      ],
      "metadata": {
        "id": "BWkOb_W7SZ-i"
      }
    },
    {
      "cell_type": "code",
      "source": [],
      "metadata": {
        "id": "Vn8Fq0lTSByH"
      },
      "execution_count": null,
      "outputs": []
    },
    {
      "cell_type": "code",
      "source": [],
      "metadata": {
        "id": "7dnIs1-bpxYs"
      },
      "execution_count": null,
      "outputs": []
    },
    {
      "cell_type": "markdown",
      "source": [
        "## 문제 풀이\n",
        "---"
      ],
      "metadata": {
        "id": "vWphXr9jTAsO"
      }
    },
    {
      "cell_type": "markdown",
      "source": [
        "\n",
        "**예제 01**\n",
        "\n",
        "for문으로 작성한 코드와 똑같은 결과가 나오도록 while문으로 작성하세요\n",
        "\n",
        "```\n",
        "for i in range(3, 10):\n",
        "  print(i)\n",
        "```"
      ],
      "metadata": {
        "id": "u98zs4LITAyC"
      }
    },
    {
      "cell_type": "code",
      "source": [
        "for i in range(3, 10):\n",
        "  print(i)\n",
        "\n",
        "print()\n",
        "l = 3\n",
        "while l<10:\n",
        "  print(l)\n",
        "  l+=1"
      ],
      "metadata": {
        "id": "IiaxggF-TEit",
        "colab": {
          "base_uri": "https://localhost:8080/"
        },
        "outputId": "24bf5c40-f2b2-4372-dc3b-552320c23763"
      },
      "execution_count": 20,
      "outputs": [
        {
          "output_type": "stream",
          "name": "stdout",
          "text": [
            "3\n",
            "4\n",
            "5\n",
            "6\n",
            "7\n",
            "8\n",
            "9\n",
            "\n",
            "3\n",
            "4\n",
            "5\n",
            "6\n",
            "7\n",
            "8\n",
            "9\n"
          ]
        }
      ]
    },
    {
      "cell_type": "markdown",
      "source": [
        "**예제 02**\n",
        "\n",
        "for문으로 작성한 코드와 똑같은 결과가 나오도록 while문으로 작성하세요\n",
        "\n",
        "```\n",
        "for i in range(1, 101, 5):\n",
        "  print(i)\n",
        "```"
      ],
      "metadata": {
        "id": "vDB4GsJGVB2N"
      }
    },
    {
      "cell_type": "code",
      "source": [
        "i = 1\n",
        "while i<=100:\n",
        "  print(i)\n",
        "  i+=5"
      ],
      "metadata": {
        "id": "tuRSlqbTVCEp",
        "colab": {
          "base_uri": "https://localhost:8080/"
        },
        "outputId": "4e546372-7356-40c5-e0e2-2e6248b648bf"
      },
      "execution_count": 27,
      "outputs": [
        {
          "output_type": "stream",
          "name": "stdout",
          "text": [
            "1\n",
            "6\n",
            "11\n",
            "16\n",
            "21\n",
            "26\n",
            "31\n",
            "36\n",
            "41\n",
            "46\n",
            "51\n",
            "56\n",
            "61\n",
            "66\n",
            "71\n",
            "76\n",
            "81\n",
            "86\n",
            "91\n",
            "96\n"
          ]
        }
      ]
    },
    {
      "cell_type": "markdown",
      "source": [
        "**예제 03**\n",
        "\n",
        "for문으로 작성한 코드와 똑같은 결과가 나오도록 while문으로 작성하세요\n",
        "\n",
        "```\n",
        "for i in range(100):\n",
        "  if i%2==0:\n",
        "    print(i,\"짝수\")\n",
        "  if i==80: break\n",
        "```\n"
      ],
      "metadata": {
        "id": "4EyLkoMQVDkW"
      }
    },
    {
      "cell_type": "code",
      "source": [
        "i = 0\n",
        "while i<99:\n",
        "  i+=1\n",
        "  if i%2==0:\n",
        "    print(i,'짝수')\n",
        "  if i==80:\n",
        "    break\n"
      ],
      "metadata": {
        "id": "_16FaIPGVEZ9",
        "colab": {
          "base_uri": "https://localhost:8080/"
        },
        "outputId": "aa8f8899-3dae-4c3f-919f-27286da684d8"
      },
      "execution_count": 78,
      "outputs": [
        {
          "output_type": "stream",
          "name": "stdout",
          "text": [
            "2 짝수\n",
            "4 짝수\n",
            "6 짝수\n",
            "8 짝수\n",
            "10 짝수\n",
            "12 짝수\n",
            "14 짝수\n",
            "16 짝수\n",
            "18 짝수\n",
            "20 짝수\n",
            "22 짝수\n",
            "24 짝수\n",
            "26 짝수\n",
            "28 짝수\n",
            "30 짝수\n",
            "32 짝수\n",
            "34 짝수\n",
            "36 짝수\n",
            "38 짝수\n",
            "40 짝수\n",
            "42 짝수\n",
            "44 짝수\n",
            "46 짝수\n",
            "48 짝수\n",
            "50 짝수\n",
            "52 짝수\n",
            "54 짝수\n",
            "56 짝수\n",
            "58 짝수\n",
            "60 짝수\n",
            "62 짝수\n",
            "64 짝수\n",
            "66 짝수\n",
            "68 짝수\n",
            "70 짝수\n",
            "72 짝수\n",
            "74 짝수\n",
            "76 짝수\n",
            "78 짝수\n",
            "80 짝수\n"
          ]
        }
      ]
    },
    {
      "cell_type": "markdown",
      "source": [
        "**예제 04**\n",
        "\n",
        "while 문을 이용해 1에서 100까지 짝수만 출력하세요\n"
      ],
      "metadata": {
        "id": "V4L7t5KMVEgg"
      }
    },
    {
      "cell_type": "code",
      "source": [
        "a = 0\n",
        "while True:\n",
        "  a+=1\n",
        "  if a%2==0:\n",
        "    print(a)\n",
        "    if a==100:\n",
        "      break"
      ],
      "metadata": {
        "id": "U52mspwKVFXU",
        "colab": {
          "base_uri": "https://localhost:8080/"
        },
        "outputId": "aa47bae1-1442-49a0-d505-0808d0139f5a"
      },
      "execution_count": 54,
      "outputs": [
        {
          "output_type": "stream",
          "name": "stdout",
          "text": [
            "2\n",
            "4\n",
            "6\n",
            "8\n",
            "10\n",
            "12\n",
            "14\n",
            "16\n",
            "18\n",
            "20\n",
            "22\n",
            "24\n",
            "26\n",
            "28\n",
            "30\n",
            "32\n",
            "34\n",
            "36\n",
            "38\n",
            "40\n",
            "42\n",
            "44\n",
            "46\n",
            "48\n",
            "50\n",
            "52\n",
            "54\n",
            "56\n",
            "58\n",
            "60\n",
            "62\n",
            "64\n",
            "66\n",
            "68\n",
            "70\n",
            "72\n",
            "74\n",
            "76\n",
            "78\n",
            "80\n",
            "82\n",
            "84\n",
            "86\n",
            "88\n",
            "90\n",
            "92\n",
            "94\n",
            "96\n",
            "98\n",
            "100\n"
          ]
        }
      ]
    },
    {
      "cell_type": "markdown",
      "source": [
        "**예제 05**\n",
        "\n",
        "while 문을 이용해 1에서 100까지 홀수만 더한 값을 구하세요"
      ],
      "metadata": {
        "id": "1q-kYwVQVFhn"
      }
    },
    {
      "cell_type": "code",
      "source": [
        "a = 1\n",
        "sum_a = 0\n",
        "while a<100:\n",
        "  if a%2==1:\n",
        "    sum_a+=a\n",
        "  a+=1\n",
        "print(sum_a)"
      ],
      "metadata": {
        "id": "naOWIU4uVGhS",
        "colab": {
          "base_uri": "https://localhost:8080/"
        },
        "outputId": "872b37f8-9314-40a3-b617-df3f4f0ba528"
      },
      "execution_count": 51,
      "outputs": [
        {
          "output_type": "stream",
          "name": "stdout",
          "text": [
            "2500\n"
          ]
        }
      ]
    },
    {
      "cell_type": "markdown",
      "source": [
        "**예제 06**\n",
        "\n",
        "while 문을 이용해 1에서 100까지 4와 3의 공배수들의 평균을 구하세요"
      ],
      "metadata": {
        "id": "wy_k3SAeVGqc"
      }
    },
    {
      "cell_type": "code",
      "source": [
        "a = 1\n",
        "a_list = []\n",
        "while a<100:\n",
        "  if a%4==0 and a%3==0:\n",
        "    a_list.append(a)\n",
        "  a+=1\n",
        "sum(a_list)/len(a_list)"
      ],
      "metadata": {
        "id": "grC1BOsQVHvI",
        "colab": {
          "base_uri": "https://localhost:8080/"
        },
        "outputId": "a8719192-e9dd-4109-f742-1b4babff0266"
      },
      "execution_count": 67,
      "outputs": [
        {
          "output_type": "execute_result",
          "data": {
            "text/plain": [
              "54.0"
            ]
          },
          "metadata": {},
          "execution_count": 67
        }
      ]
    },
    {
      "cell_type": "markdown",
      "source": [
        "**예제 07**\n",
        "\n",
        "- while구문을 시작합니다.\n",
        "- `input()` 함수로 사용자의 입력을 계속 받습니다.\n",
        "- 사용자가 \"그만\" 이라고 입력하면 구문을 종료합니다."
      ],
      "metadata": {
        "id": "dfQJicrVVH6N"
      }
    },
    {
      "cell_type": "code",
      "source": [
        "while True:\n",
        "  if input()=='그만':\n",
        "    break"
      ],
      "metadata": {
        "id": "lQ4KOverVJGc",
        "colab": {
          "base_uri": "https://localhost:8080/"
        },
        "outputId": "9dae5839-5f82-4e5a-ece9-dc88dcf40d88"
      },
      "execution_count": 154,
      "outputs": [
        {
          "name": "stdout",
          "output_type": "stream",
          "text": [
            "하이\n",
            "난 이제 가볼게\n",
            "그만\n"
          ]
        }
      ]
    },
    {
      "cell_type": "markdown",
      "source": [
        "**예제 08**\n",
        "\n",
        "while문을 이용해 아래 결과를 내는 함수 `bomb()` 를 작성하세요. 음수가 입력될 경우 다른 에러메시지를 출력하세요.\n",
        "\n",
        "\n",
        "```\n",
        ">> bomb() \n",
        "Enter timer: 6  \n",
        "befor 6 sec.  \n",
        "befor 5 sec.  \n",
        "befor 4 sec.  \n",
        "befor 3 sec.  \n",
        "befor 2 sec.  \n",
        "befor 1 sec.  \n",
        "BOMB!  \n",
        "```"
      ],
      "metadata": {
        "id": "hF9slbhOVJKw"
      }
    },
    {
      "cell_type": "code",
      "source": [
        "def bomb(x):\n",
        "  print(f'Enter timer: {x}')\n",
        "  while x>=0:\n",
        "    print(f'befor {x} sec.')\n",
        "    x-=1\n",
        "  print('BOMB!')\n",
        "\n",
        "bomb(10)"
      ],
      "metadata": {
        "id": "7SEfCpsTVMio",
        "colab": {
          "base_uri": "https://localhost:8080/"
        },
        "outputId": "c67ac212-ea26-4aee-c72a-5f36cf5d2570"
      },
      "execution_count": 201,
      "outputs": [
        {
          "output_type": "stream",
          "name": "stdout",
          "text": [
            "Enter timer: 10\n",
            "befor 10 sec.\n",
            "befor 9 sec.\n",
            "befor 8 sec.\n",
            "befor 7 sec.\n",
            "befor 6 sec.\n",
            "befor 5 sec.\n",
            "befor 4 sec.\n",
            "befor 3 sec.\n",
            "befor 2 sec.\n",
            "befor 1 sec.\n",
            "befor 0 sec.\n",
            "BOMB!\n"
          ]
        }
      ]
    },
    {
      "cell_type": "markdown",
      "source": [
        "**예제 09**\n",
        "\n",
        "연이자율이 8%인 예금통장에 길동이는 올해 1월 1000만원을 예금했습니다. 이 돈이 1500만원을 넘기는 시점은 몇년뒤 인지 while문을 이용해서 구하세요\n"
      ],
      "metadata": {
        "id": "c1v9VLOHVN0t"
      }
    },
    {
      "cell_type": "code",
      "source": [
        "mm = 10000000\n",
        "wmm = []\n",
        "# 단리\n",
        "while mm<=15000000:\n",
        "  mm+=(10000000 * 0.08)\n",
        "  wmm.append(mm)\n",
        "wmm"
      ],
      "metadata": {
        "id": "Me8E8AVAVOoR",
        "colab": {
          "base_uri": "https://localhost:8080/"
        },
        "outputId": "6b667415-fc94-46f2-8d07-9358d31eb764"
      },
      "execution_count": 63,
      "outputs": [
        {
          "output_type": "execute_result",
          "data": {
            "text/plain": [
              "[10800000.0,\n",
              " 11600000.0,\n",
              " 12400000.0,\n",
              " 13200000.0,\n",
              " 14000000.0,\n",
              " 14800000.0,\n",
              " 15600000.0]"
            ]
          },
          "metadata": {},
          "execution_count": 63
        }
      ]
    },
    {
      "cell_type": "markdown",
      "source": [
        "**예제 10**\n",
        "\n",
        "- while 문을 이용해 1부터 100까지 값을 출력합니다.\n",
        "- 만약 출력값이 짝수면 `list_even`, 홀수면 `list_odd`, 5의 배수면 `list_5`\n",
        "- `list_even, list_odd, list_5`는 리스트이며 중복가능하게 각 리스트에 숫자를 넣습니다.\n"
      ],
      "metadata": {
        "id": "ITHlcSQZVOsm"
      }
    },
    {
      "cell_type": "code",
      "source": [
        "l = 1\n",
        "list_even = []\n",
        "list_odd = []\n",
        "list_5 = []\n",
        "while l<100:\n",
        "  if l%2==0:\n",
        "    list_even.append(l)\n",
        "  if l%2==1:\n",
        "    list_odd.append(l)\n",
        "  if l%5==0:\n",
        "    list_5.append(l)\n",
        "  l+=1"
      ],
      "metadata": {
        "id": "Dxp71crMVYkm"
      },
      "execution_count": 73,
      "outputs": []
    },
    {
      "cell_type": "code",
      "source": [
        "print(list_even, end=' \\n')\n",
        "print(list_odd, end=' \\n')\n",
        "print(list_5, end=' ')"
      ],
      "metadata": {
        "id": "aj9AlNYyQqN9",
        "colab": {
          "base_uri": "https://localhost:8080/"
        },
        "outputId": "343e4775-fd71-48a3-85db-7591c4a7182f"
      },
      "execution_count": 74,
      "outputs": [
        {
          "output_type": "stream",
          "name": "stdout",
          "text": [
            "[2, 4, 6, 8, 10, 12, 14, 16, 18, 20, 22, 24, 26, 28, 30, 32, 34, 36, 38, 40, 42, 44, 46, 48, 50, 52, 54, 56, 58, 60, 62, 64, 66, 68, 70, 72, 74, 76, 78, 80, 82, 84, 86, 88, 90, 92, 94, 96, 98] \n",
            "[1, 3, 5, 7, 9, 11, 13, 15, 17, 19, 21, 23, 25, 27, 29, 31, 33, 35, 37, 39, 41, 43, 45, 47, 49, 51, 53, 55, 57, 59, 61, 63, 65, 67, 69, 71, 73, 75, 77, 79, 81, 83, 85, 87, 89, 91, 93, 95, 97, 99] \n",
            "[5, 10, 15, 20, 25, 30, 35, 40, 45, 50, 55, 60, 65, 70, 75, 80, 85, 90, 95] "
          ]
        }
      ]
    },
    {
      "cell_type": "code",
      "source": [],
      "metadata": {
        "colab": {
          "base_uri": "https://localhost:8080/"
        },
        "id": "js5aBu9NiWrz",
        "outputId": "40bd169e-6583-4dd0-95af-a6644709dd76"
      },
      "execution_count": 189,
      "outputs": [
        {
          "output_type": "stream",
          "name": "stdout",
          "text": [
            "[]\n"
          ]
        }
      ]
    },
    {
      "cell_type": "code",
      "source": [],
      "metadata": {
        "id": "USmSKpGviYdD"
      },
      "execution_count": null,
      "outputs": []
    }
  ]
}